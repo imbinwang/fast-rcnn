{
 "cells": [
  {
   "cell_type": "markdown",
   "metadata": {},
   "source": [
    "### Setup\n",
    "\n",
    "Import Caffe and the usual modules."
   ]
  },
  {
   "cell_type": "code",
   "execution_count": 1,
   "metadata": {
    "collapsed": false
   },
   "outputs": [],
   "source": [
    "import numpy as np\n",
    "import math\n",
    "import matplotlib.pyplot as plt\n",
    "from mpl_toolkits.mplot3d import Axes3D\n",
    "from matplotlib.mlab import PCA\n",
    "\n",
    "%matplotlib inline\n",
    "\n",
    "#plt.rcParams['figure.figsize'] = (10, 10)\n",
    "plt.rcParams['image.interpolation'] = 'nearest'\n",
    "plt.rcParams['image.cmap'] = 'gray'\n",
    "\n",
    "import _init_paths\n",
    "from fast_rcnn.config import cfg, cfg_from_file\n",
    "from fast_rcnn.test import _get_blobs\n",
    "from utils.cython_nms import nms\n",
    "from utils.timer import Timer\n",
    "import scipy.io as sio\n",
    "import caffe, os, sys, cv2, h5py"
   ]
  },
  {
   "cell_type": "markdown",
   "metadata": {},
   "source": [
    "### Configure all the constants\n",
    "\n",
    "Define net path, data path and so on."
   ]
  },
  {
   "cell_type": "code",
   "execution_count": null,
   "metadata": {
    "collapsed": false
   },
   "outputs": [],
   "source": [
    "DATA_PATH = '/mnt/wb/dataset/LINEMOD4FRCNN'\n",
    "COMP_DATA_PATH = '/mnt/wb/dataset/LINEMOD_COMP4FRCNN'\n",
    "V_DATA_PATH = '/mnt/wb/dataset/LINEMOD_V4FRCNN'\n",
    "REALBG_DATA_PATH = '/mnt/wb/dataset/LINEMOD_BG4FRCNN'\n",
    "ROR_DATA_PATH = '/mnt/wb/dataset/LINEMOD_ROR4FRCNN'\n",
    "FRCNN_ROOT_DIR = '/mnt/wb/project/fast-rcnn'\n",
    "\n",
    "CLASSES = ('__background__',\n",
    "           'ape', 'benchviseblue', 'bowl', 'cam', 'can', \n",
    "           'cat', 'cup', 'driller', 'duck', 'eggbox', \n",
    "           'glue', 'holepuncher', 'iron', 'lamp', 'phone')\n",
    "\n",
    "NETS = {'detect_net_comp_500k': ('wb_CaffeNet',\n",
    "                     'test_linemod.prototxt',\n",
    "                     'caffenet_frcnn.caffemodel'),\n",
    "       'detect_net_small_2000k': ('wb_SmallNet',\n",
    "                     'test_linemod.prototxt',\n",
    "                     'smallnet_comp_2_iter_2000000.caffemodel')}\n",
    "\n",
    "DATASETS = {'linemod_test': (DATA_PATH + '/data/ImageSets/test.txt',\n",
    "                  DATA_PATH + '/test.mat'),\n",
    "            'linemod_comp_test': (COMP_DATA_PATH + '/data/ImageSets/test.txt',\n",
    "                  COMP_DATA_PATH + '/test.mat'),\n",
    "            'linemod_comp_train': (COMP_DATA_PATH + '/data/ImageSets/train.txt',\n",
    "                  COMP_DATA_PATH + '/train.mat'),\n",
    "            'linemod_v_test': (V_DATA_PATH + '/data/ImageSets/test.txt',\n",
    "                  V_DATA_PATH + '/test.mat'),\n",
    "            'linemod_v_train': (V_DATA_PATH + '/data/ImageSets/train.txt',\n",
    "                  V_DATA_PATH + '/train.mat'),\n",
    "           'linemod_realbg_train': (REALBG_DATA_PATH + '/data/ImageSets/train.txt',\n",
    "                  REALBG_DATA_PATH + '/train.mat'),\n",
    "           'linemod_ror_train': (ROR_DATA_PATH + '/data/ImageSets/train.txt',\n",
    "                  ROR_DATA_PATH + '/train.mat')}\n",
    "\n",
    "CFG_FILE = FRCNN_ROOT_DIR+'/experiments/wb_cfgs/linemod_comp_2.yml'\n",
    "\n",
    "GPU_ID = 11\n",
    "\n",
    "prototxt = os.path.join(FRCNN_ROOT_DIR, 'models', NETS['detect_net_comp_500k'][0],\n",
    "                            NETS['detect_net_comp_500k'][1])\n",
    "caffemodel = os.path.join(FRCNN_ROOT_DIR, 'output', 'LINEMOD',\n",
    "                              NETS['detect_net_comp_500k'][2])\n",
    "\n",
    "images = DATASETS['linemod_comp_test'][0]"
   ]
  },
  {
   "cell_type": "markdown",
   "metadata": {},
   "source": [
    "### Load net"
   ]
  },
  {
   "cell_type": "code",
   "execution_count": null,
   "metadata": {
    "collapsed": false
   },
   "outputs": [],
   "source": [
    "cfg_from_file(CFG_FILE)\n",
    "\n",
    "caffe.set_mode_gpu()\n",
    "caffe.set_device(GPU_ID)\n",
    "net = caffe.Net(prototxt, caffemodel, caffe.TEST)"
   ]
  },
  {
   "cell_type": "markdown",
   "metadata": {},
   "source": [
    "### Load data\n",
    "\n",
    "Load images and proposals"
   ]
  },
  {
   "cell_type": "code",
   "execution_count": null,
   "metadata": {
    "collapsed": false,
    "scrolled": true
   },
   "outputs": [],
   "source": [
    "image_names = [line.strip() for line in open(images).readlines()]\n",
    "image_pathes = ['{0}/{1}/{2}{3}'.format(COMP_DATA_PATH, 'data/Images', image_name, '.jpg')\\\n",
    "                for image_name in image_names]\n",
    "img_num = len(image_names)\n",
    "image_boxes = [0 for i in range(img_num)]\n",
    "image_boxes_cls = [0 for i in range(img_num)]\n",
    "\n",
    "for i in range(img_num):\n",
    "    filename = os.path.join(COMP_DATA_PATH, 'data', 'Annotations', image_names[i] + '.txt')\n",
    "    # print 'Loading: {}'.format(filename)\n",
    "    with open(filename) as f:\n",
    "        data = f.readlines()\n",
    "\n",
    "    objs = data\n",
    "    num_objs = len(objs)\n",
    "    boxes = np.zeros((num_objs, 4), dtype=np.uint16)\n",
    "    gt_classes = np.zeros((num_objs), dtype=np.int32)\n",
    "\n",
    "    # Load object bounding boxes into a data frame.\n",
    "    for ix, obj in enumerate(objs):\n",
    "        # Make pixel indexes 0-based\n",
    "        cls_bb = obj.strip().split(' ')\n",
    "        cls_name = cls_bb[0]\n",
    "        x1 = float(cls_bb[1])\n",
    "        y1 = float(cls_bb[2])\n",
    "        x2 = float(cls_bb[3])\n",
    "        y2 = float(cls_bb[4])\n",
    "        cls = CLASSES.index(cls_name)\n",
    "        boxes[ix, :] = [x1, y1, x2, y2]\n",
    "        gt_classes[ix] = cls\n",
    "    image_boxes[i] = boxes\n",
    "    image_boxes_cls[i] = gt_classes"
   ]
  },
  {
   "cell_type": "markdown",
   "metadata": {},
   "source": [
    "### Compute features\n",
    "Compute features of last fully-connected layers"
   ]
  },
  {
   "cell_type": "code",
   "execution_count": null,
   "metadata": {
    "collapsed": false
   },
   "outputs": [],
   "source": [
    "img_num=4\n",
    "conv1_list = [ 0 for _ in range(img_num)]\n",
    "pool1_list = [ 0 for _ in range(img_num)]\n",
    "conv2_list = [ 0 for _ in range(img_num)]\n",
    "pool2_list = [ 0 for _ in range(img_num)]\n",
    "conv3_list = [ 0 for _ in range(img_num)]\n",
    "conv4_list = [ 0 for _ in range(img_num)]\n",
    "conv5_list = [ 0 for _ in range(img_num)]\n",
    "pool5_list = [ 0 for _ in range(img_num)]\n",
    "score_list = [ 0 for _ in range(img_num)]\n",
    "\n",
    "#for i in range(img_num):\n",
    "img_ids = [0, 666, 1900, 2600]\n",
    "idx=0\n",
    "for i in img_ids:\n",
    "    print image_pathes[i]\n",
    "    im = cv2.imread(image_pathes[i])\n",
    "    # change the box format from matlab(1-based index, colomn major) to python format(0-based index, row major)\n",
    "    boxes = image_boxes[i]\n",
    "        \n",
    "    blobs, unused_im_scale_factors = _get_blobs(im, boxes)\n",
    "\n",
    "    # reshape network inputs\n",
    "    net.blobs['data'].reshape(*(blobs['data'].shape))\n",
    "    net.blobs['rois'].reshape(*(blobs['rois'].shape))\n",
    "\n",
    "    feat_blobs_names = ['conv1', 'pool1','conv2', 'pool2', 'conv3', 'conv4', 'conv5', 'pool5', 'cls_prob']\n",
    "    blobs_out = net.forward(blobs=feat_blobs_names, data=blobs['data'].astype(np.float32, copy=False),\n",
    "                        rois=blobs['rois'].astype(np.float32, copy=False))\n",
    "    \n",
    "    conv1_list[idx] = np.copy(blobs_out['conv1'])\n",
    "    pool1_list[idx] = np.copy(blobs_out['pool1'])\n",
    "    conv2_list[idx] = np.copy(blobs_out['conv2'])\n",
    "    pool2_list[idx] = np.copy(blobs_out['pool2'])\n",
    "    conv3_list[idx] = np.copy(blobs_out['conv3'])\n",
    "    conv4_list[idx] = np.copy(blobs_out['conv4'])\n",
    "    conv5_list[idx] = np.copy(blobs_out['conv5'])\n",
    "    pool5_list[idx] = np.copy(blobs_out['pool5'])\n",
    "    score_list[idx] = np.copy(blobs_out['cls_prob'])\n",
    "    \n",
    "    idx = idx + 1"
   ]
  },
  {
   "cell_type": "code",
   "execution_count": null,
   "metadata": {
    "collapsed": false,
    "scrolled": true
   },
   "outputs": [],
   "source": [
    "plt.rcParams['figure.figsize'] = (10, 10)\n",
    "plt.rcParams['image.interpolation'] = 'nearest'\n",
    "plt.rcParams['image.cmap'] = 'gray'\n",
    "\n",
    "# take an array of shape (n, height, width) or (n, height, width, channels)\n",
    "# and visualize each (height, width) thing in a grid of size approx. sqrt(n) by sqrt(n)\n",
    "def vis_square(data, padsize=1, padval=0):\n",
    "    data -= data.min()\n",
    "    data /= data.max()\n",
    "    \n",
    "    # force the number of filters to be square\n",
    "    n = int(np.ceil(np.sqrt(data.shape[0])))\n",
    "    padding = ((0, n ** 2 - data.shape[0]), (0, padsize), (0, padsize)) + ((0, 0),) * (data.ndim - 3)\n",
    "    data = np.pad(data, padding, mode='constant', constant_values=(padval, padval))\n",
    "    \n",
    "    # tile the filters into an image\n",
    "    data = data.reshape((n, n) + data.shape[1:]).transpose((0, 2, 1, 3) + tuple(range(4, data.ndim + 1)))\n",
    "    data = data.reshape((n * data.shape[1], n * data.shape[3]) + data.shape[4:])\n",
    "    \n",
    "    plt.imshow(data)\n",
    "  \n",
    "print conv1_list[0].shape\n",
    "print conv2_list[0].shape\n",
    "print conv3_list[0].shape\n",
    "print conv4_list[0].shape\n",
    "print conv5_list[0].shape"
   ]
  },
  {
   "cell_type": "code",
   "execution_count": null,
   "metadata": {
    "collapsed": false
   },
   "outputs": [],
   "source": [
    "img_id = 1\n",
    "im = cv2.imread(image_pathes[img_ids[img_id]])\n",
    "im = im[:, :, (2, 1, 0)]\n",
    "plt.imshow(im)"
   ]
  },
  {
   "cell_type": "code",
   "execution_count": null,
   "metadata": {
    "collapsed": false
   },
   "outputs": [],
   "source": [
    "conv1 = net.params['conv1'][0].data\n",
    "vis_square(conv1.transpose((0,2,3,1)))"
   ]
  },
  {
   "cell_type": "code",
   "execution_count": null,
   "metadata": {
    "collapsed": false
   },
   "outputs": [],
   "source": [
    "conv1_feat = conv1_list[img_id][0]\n",
    "vis_square(conv1_feat[0:16],padsize=3, padval=1)"
   ]
  },
  {
   "cell_type": "code",
   "execution_count": null,
   "metadata": {
    "collapsed": false
   },
   "outputs": [],
   "source": [
    "vis_square(conv1_feat[16:2*16],padsize=3, padval=1)"
   ]
  },
  {
   "cell_type": "code",
   "execution_count": null,
   "metadata": {
    "collapsed": false
   },
   "outputs": [],
   "source": [
    "vis_square(conv1_feat[2*16:3*16],padsize=3, padval=1)"
   ]
  },
  {
   "cell_type": "code",
   "execution_count": null,
   "metadata": {
    "collapsed": false
   },
   "outputs": [],
   "source": [
    "vis_square(conv1_feat[3*16:4*16],padsize=3, padval=1)"
   ]
  },
  {
   "cell_type": "code",
   "execution_count": null,
   "metadata": {
    "collapsed": false
   },
   "outputs": [],
   "source": [
    "vis_square(conv1_feat[4*16:5*16],padsize=3, padval=1)"
   ]
  },
  {
   "cell_type": "code",
   "execution_count": null,
   "metadata": {
    "collapsed": false
   },
   "outputs": [],
   "source": [
    "vis_square(conv1_feat[5*16:6*16],padsize=3, padval=1)"
   ]
  },
  {
   "cell_type": "code",
   "execution_count": null,
   "metadata": {
    "collapsed": false
   },
   "outputs": [],
   "source": [
    "conv2 = net.params['conv2'][0].data\n",
    "print conv2.shape\n",
    "vis_square(conv2[:48].reshape(48*48,5,5))"
   ]
  },
  {
   "cell_type": "code",
   "execution_count": null,
   "metadata": {
    "collapsed": false
   },
   "outputs": [],
   "source": [
    "conv2_feat = conv2_list[img_id][0]\n",
    "print conv2_feat.shape\n",
    "vis_square(conv2_feat,padsize=3, padval=1)"
   ]
  },
  {
   "cell_type": "code",
   "execution_count": null,
   "metadata": {
    "collapsed": false
   },
   "outputs": [],
   "source": [
    "conv3 = net.params['conv3'][0].data\n",
    "print conv3.shape\n",
    "vis_square(conv3[:8].reshape(8*256,3,3))"
   ]
  },
  {
   "cell_type": "code",
   "execution_count": null,
   "metadata": {
    "collapsed": false
   },
   "outputs": [],
   "source": [
    "conv3_feat = conv3_list[img_id][0]\n",
    "print conv3_feat.shape\n",
    "vis_square(conv3_feat,padsize=2, padval=1)"
   ]
  },
  {
   "cell_type": "code",
   "execution_count": null,
   "metadata": {
    "collapsed": false
   },
   "outputs": [],
   "source": [
    "conv4 = net.params['conv4'][0].data\n",
    "print conv4.shape\n",
    "vis_square(conv4[:8].reshape(8*192,3,3))"
   ]
  },
  {
   "cell_type": "code",
   "execution_count": null,
   "metadata": {
    "collapsed": false
   },
   "outputs": [],
   "source": [
    "conv4_feat = conv4_list[img_id][0]\n",
    "print conv4_feat.shape\n",
    "vis_square(conv4_feat,padsize=2, padval=1)"
   ]
  },
  {
   "cell_type": "code",
   "execution_count": null,
   "metadata": {
    "collapsed": false
   },
   "outputs": [],
   "source": [
    "conv5 = net.params['conv5'][0].data\n",
    "print conv5.shape\n",
    "vis_square(conv4[:8].reshape(8*192,3,3))"
   ]
  },
  {
   "cell_type": "code",
   "execution_count": null,
   "metadata": {
    "collapsed": false
   },
   "outputs": [],
   "source": [
    "conv5_feat = conv5_list[img_id][0]\n",
    "print conv5_feat.shape\n",
    "vis_square(conv4_feat,padsize=2, padval=1)"
   ]
  },
  {
   "cell_type": "code",
   "execution_count": null,
   "metadata": {
    "collapsed": false
   },
   "outputs": [],
   "source": [
    "pool5_feat = pool5_list[img_id][0]\n",
    "print pool5_feat.shape\n",
    "vis_square(pool5_feat,padsize=2, padval=1)"
   ]
  },
  {
   "cell_type": "code",
   "execution_count": null,
   "metadata": {
    "collapsed": false
   },
   "outputs": [],
   "source": [
    "score = score_list[img_id]\n",
    "plt.plot(score.flat)"
   ]
  }
 ],
 "metadata": {
  "description": "Extracting features and plotting the Siamese network embedding.",
  "example_name": "Siamese network embedding",
  "include_in_docs": true,
  "kernelspec": {
   "display_name": "Python 2",
   "language": "python",
   "name": "python2"
  },
  "language_info": {
   "codemirror_mode": {
    "name": "ipython",
    "version": 2
   },
   "file_extension": ".py",
   "mimetype": "text/x-python",
   "name": "python",
   "nbconvert_exporter": "python",
   "pygments_lexer": "ipython2",
   "version": "2.7.6"
  },
  "priority": 6
 },
 "nbformat": 4,
 "nbformat_minor": 0
}
